{
 "cells": [
  {
   "cell_type": "markdown",
   "id": "76a79a45",
   "metadata": {},
   "source": [
    "# Neural Computing Coursework \n",
    "### Morteza Layegh Mirhosseini --- Student ID : 220003166"
   ]
  },
  {
   "cell_type": "markdown",
   "id": "802293c5",
   "metadata": {},
   "source": [
    "# Test Notebook"
   ]
  },
  {
   "cell_type": "code",
   "execution_count": 1,
   "id": "d1b023ec",
   "metadata": {},
   "outputs": [],
   "source": [
    "import numpy as np\n",
    "import pandas as pd\n",
    "import torch\n",
    "import random\n",
    "import matplotlib.pyplot as plt\n",
    "import time \n",
    "import torch.nn as nn\n",
    "from sklearn.metrics import confusion_matrix, accuracy_score, classification_report\n",
    "from sklearn.metrics import classification_report\n",
    "from sklearn.model_selection import GridSearchCV\n",
    "from skorch import NeuralNetClassifier\n",
    "import seaborn as sns\n",
    "import torch\n",
    "from torch import nn\n",
    "import torch.nn.functional as F\n",
    "from sklearn.metrics import confusion_matrix, accuracy_score, classification_report\n",
    "from torch.optim import Adam\n",
    "from skorch.callbacks import EpochScoring\n",
    "from skorch.callbacks import EarlyStopping\n",
    "from skorch.dataset import ValidSplit\n",
    "from skorch import NeuralNetClassifier\n",
    "import pickle"
   ]
  },
  {
   "cell_type": "code",
   "execution_count": 2,
   "id": "87cb1f3c",
   "metadata": {},
   "outputs": [
    {
     "name": "stdout",
     "output_type": "stream",
     "text": [
      "NumPy version: 1.21.5\n",
      "Pandas version: 1.4.2\n",
      "PyTorch version: 1.13.1+cpu\n",
      "Scikit-learn version: 1.1.3\n",
      "Skorch version: 0.12.1\n",
      "Seaborn version: 0.11.2\n",
      "Matplotlib version: 3.5.1\n"
     ]
    }
   ],
   "source": [
    "import numpy as np\n",
    "print(\"NumPy version:\", np.__version__)\n",
    "\n",
    "import pandas as pd\n",
    "print(\"Pandas version:\", pd.__version__)\n",
    "\n",
    "import torch\n",
    "print(\"PyTorch version:\", torch.__version__)\n",
    "\n",
    "import sklearn\n",
    "print(\"Scikit-learn version:\", sklearn.__version__)\n",
    "\n",
    "import skorch\n",
    "print(\"Skorch version:\", skorch.__version__)\n",
    "\n",
    "import seaborn as sns\n",
    "print(\"Seaborn version:\", sns.__version__)\n",
    "\n",
    "import matplotlib\n",
    "print(\"Matplotlib version:\", matplotlib.__version__)"
   ]
  },
  {
   "cell_type": "markdown",
   "id": "4ba033f3",
   "metadata": {},
   "source": [
    "# Read Preprocessed data"
   ]
  },
  {
   "cell_type": "code",
   "execution_count": 3,
   "id": "625674c0",
   "metadata": {},
   "outputs": [],
   "source": [
    "X_train= pd.read_csv('X_train.csv').to_numpy()\n",
    "X_test= pd.read_csv('X_test.csv').to_numpy()\n",
    "y_train= pd.read_csv('y_train.csv').to_numpy()\n",
    "y_test= pd.read_csv('y_test.csv').to_numpy()\n"
   ]
  },
  {
   "cell_type": "markdown",
   "id": "ef5716ee",
   "metadata": {},
   "source": [
    "# loading the trained SVM model "
   ]
  },
  {
   "cell_type": "code",
   "execution_count": 4,
   "id": "9282d6a8",
   "metadata": {},
   "outputs": [],
   "source": [
    "# Load the gs instance from the file\n",
    "with open('gridsearch_svm.pickle', 'rb') as f:\n",
    "    gridsearch_svm = pickle.load(f)"
   ]
  },
  {
   "cell_type": "markdown",
   "id": "0c4d2302",
   "metadata": {},
   "source": [
    "### plotting the svm results"
   ]
  },
  {
   "cell_type": "code",
   "execution_count": 5,
   "id": "568abe98",
   "metadata": {},
   "outputs": [
    {
     "name": "stdout",
     "output_type": "stream",
     "text": [
      "Predict time: 1.9023895263671875\n",
      "[[ 167  158]\n",
      " [  50 1651]]\n",
      "0.8973346495557749\n",
      "              precision    recall  f1-score   support\n",
      "\n",
      "           0       0.77      0.51      0.62       325\n",
      "           1       0.91      0.97      0.94      1701\n",
      "\n",
      "    accuracy                           0.90      2026\n",
      "   macro avg       0.84      0.74      0.78      2026\n",
      "weighted avg       0.89      0.90      0.89      2026\n",
      "\n"
     ]
    },
    {
     "data": {
      "image/png": "[encoded data removed]",
      "text/plain": [
       "<Figure size 432x288 with 2 Axes>"
      ]
     },
     "metadata": {
      "needs_background": "light"
     },
     "output_type": "display_data"
    },
    {
     "name": "stdout",
     "output_type": "stream",
     "text": [
      "AUC: 0.7422258400036178\n"
     ]
    }
   ],
   "source": [
    "# measure prediction time\n",
    "start_time = time.time()\n",
    "y_pred = gridsearch_svm.predict(X_test)\n",
    "end_time = time.time()\n",
    "prediction_time = end_time - start_time\n",
    "\n",
    "print(\"Predict time:\", prediction_time)\n",
    "\n",
    "#evaluate \n",
    "cm = confusion_matrix(y_test, y_pred)\n",
    "print(cm)\n",
    "print(accuracy_score(y_test, y_pred))\n",
    "print(classification_report(y_test,y_pred))\n",
    "\n",
    "# define the labels for the matrix\n",
    "labels = ['left (0)', 'stayed (1)']\n",
    "\n",
    "\n",
    "# create the heatmap using seaborn\n",
    "sns.heatmap(cm, annot=True, cmap='Blues', fmt='g', xticklabels=labels, yticklabels=labels)\n",
    "\n",
    "# add labels and title\n",
    "plt.xlabel('Predicted')\n",
    "plt.ylabel('Actual')\n",
    "plt.title('Confusion Matrix')\n",
    "\n",
    "# show the plot\n",
    "plt.show()\n",
    "\n",
    "from sklearn.metrics import precision_recall_fscore_support\n",
    "# calculate precision, recall, and F1 score\n",
    "precision, recall, f1_score, support = precision_recall_fscore_support(y_test, y_pred, average='macro')\n",
    "\n",
    "from sklearn.metrics import classification_report, roc_auc_score\n",
    "print(\"AUC:\", roc_auc_score(y_test, y_pred))"
   ]
  },
  {
   "cell_type": "markdown",
   "id": "6e795791",
   "metadata": {},
   "source": [
    "# MLP Model \n",
    "## architecture "
   ]
  },
  {
   "cell_type": "code",
   "execution_count": 6,
   "id": "92f87c0f",
   "metadata": {},
   "outputs": [],
   "source": [
    "X_train, y_train = X_train.astype(np.float32), y_train.astype(np.int64)\n",
    "X_test, y_test = X_test.astype(np.float32), y_test.astype(np.int64)\n",
    "y_train = np.expand_dims(y_train, axis=-1).astype(np.float32)\n",
    "\n",
    "auc = EpochScoring(scoring='precision', lower_is_better=False)\n",
    "Early_stopping= EarlyStopping(monitor='valid_loss', patience=10)\n",
    "\n",
    "class ClassifierModule(nn.Module):\n",
    "    def __init__(\n",
    "            self,\n",
    "            num_units1=64,\n",
    "            num_units2=32,\n",
    "            num_units3=16,\n",
    "            nonlin=F.relu,\n",
    "            dropout=0.3,\n",
    "    ):\n",
    "        super(ClassifierModule, self).__init__()\n",
    "        self.num_units1 = num_units1\n",
    "        self.num_units2 = num_units2\n",
    "        self.num_units3 = num_units3\n",
    "        self.nonlin = nonlin\n",
    "\n",
    "        self.dense0 = nn.Linear(36, num_units1)\n",
    "        self.dropout = nn.Dropout(dropout)\n",
    "        self.dense1 = nn.Linear(num_units1, num_units2)\n",
    "        self.dense2 = nn.Linear(num_units2, num_units3)\n",
    "        self.output = nn.Linear(num_units3,1)\n",
    "        self.sigmoid = torch.sigmoid\n",
    "\n",
    "        \n",
    "    def forward(self, X, **kwargs):\n",
    "        X = self.nonlin(self.dense0(X))\n",
    "        X = self.dropout(X)\n",
    "        X = self.nonlin(self.dense1(X))\n",
    "        X = self.dropout(X)\n",
    "        X = self.nonlin(self.dense2(X))\n",
    "        X = self.dropout(X)\n",
    "        X = self.sigmoid(self.output(X))\n",
    "        return X\n"
   ]
  },
  {
   "cell_type": "markdown",
   "id": "47f51521",
   "metadata": {},
   "source": [
    "# Loading the trained MLP model"
   ]
  },
  {
   "cell_type": "code",
   "execution_count": 7,
   "id": "241f3130",
   "metadata": {},
   "outputs": [],
   "source": [
    "# Load the gs instance from the file\n",
    "with open('gridsearch_lr.pickle', 'rb') as f:\n",
    "    gridsearch_lr = pickle.load(f)"
   ]
  },
  {
   "cell_type": "markdown",
   "id": "f277e052",
   "metadata": {},
   "source": [
    "# Testing the final MLP model and plotting the results"
   ]
  },
  {
   "cell_type": "code",
   "execution_count": 8,
   "id": "eeb7445c",
   "metadata": {},
   "outputs": [
    {
     "name": "stdout",
     "output_type": "stream",
     "text": [
      "Predict time: 0.08305048942565918\n",
      "[[ 279   46]\n",
      " [ 135 1566]]\n",
      "0.9106614017769002\n",
      "              precision    recall  f1-score   support\n",
      "\n",
      "           0       0.67      0.86      0.76       325\n",
      "           1       0.97      0.92      0.95      1701\n",
      "\n",
      "    accuracy                           0.91      2026\n",
      "   macro avg       0.82      0.89      0.85      2026\n",
      "weighted avg       0.92      0.91      0.91      2026\n",
      "\n",
      "AUC: 0.8895482295482294\n"
     ]
    }
   ],
   "source": [
    "# measure prediction time\n",
    "start_time = time.time()\n",
    "y_pred = gridsearch_lr.predict(X_test)\n",
    "end_time = time.time()\n",
    "prediction_time = end_time - start_time\n",
    "\n",
    "print(\"Predict time:\", prediction_time)\n",
    "\n",
    "#evaluate \n",
    "cm = confusion_matrix(y_test, y_pred)\n",
    "print(cm)\n",
    "print(accuracy_score(y_test, y_pred))\n",
    "print(classification_report(y_test,y_pred))\n",
    "\n",
    "from sklearn.metrics import classification_report, roc_auc_score\n",
    "print(\"AUC:\", roc_auc_score(y_test, y_pred))"
   ]
  },
  {
   "cell_type": "code",
   "execution_count": 9,
   "id": "d4e9e3b1",
   "metadata": {},
   "outputs": [
    {
     "data": {
      "image/png": "[encoded data removed]",
      "text/plain": [
       "<Figure size 432x288 with 1 Axes>"
      ]
     },
     "metadata": {
      "needs_background": "light"
     },
     "output_type": "display_data"
    },
    {
     "data": {
      "image/png": "[encoded data removed]",
      "text/plain": [
       "<Figure size 432x288 with 2 Axes>"
      ]
     },
     "metadata": {
      "needs_background": "light"
     },
     "output_type": "display_data"
    }
   ],
   "source": [
    "# import necessary libraries\n",
    "from sklearn.metrics import roc_curve\n",
    "\n",
    "# get the predicted probabilities and true labels for the test set\n",
    "y_pred_proba = gridsearch_lr.predict_proba(X_test)[:, 1]\n",
    "y_true = y_test\n",
    "\n",
    "# calculate the false positive rate, true positive rate, and threshold values\n",
    "fpr, tpr, thresholds = roc_curve(y_true, y_pred_proba)\n",
    "\n",
    "# plot the ROC curve\n",
    "plt.plot(fpr, tpr)\n",
    "plt.xlabel('False Positive Rate')\n",
    "plt.ylabel('True Positive Rate')\n",
    "plt.title('ROC Curve')\n",
    "plt.show()\n",
    "\n",
    "\n",
    "# define the labels for the matrix\n",
    "labels = ['left (0)', 'stayed (1)']\n",
    "\n",
    "# create the heatmap using seaborn\n",
    "sns.heatmap(cm, annot=True, cmap='Blues', fmt='g', xticklabels=labels, yticklabels=labels)\n",
    "\n",
    "# add labels and title\n",
    "plt.xlabel('Predicted')\n",
    "plt.ylabel('Actual')\n",
    "plt.title('Confusion Matrix')\n",
    "\n",
    "# show the plot\n",
    "plt.show()"
   ]
  },
  {
   "cell_type": "code",
   "execution_count": 10,
   "id": "1a9bf891",
   "metadata": {},
   "outputs": [
    {
     "data": {
      "image/png": "[encoded data removed]",
      "text/plain": [
       "<Figure size 432x288 with 1 Axes>"
      ]
     },
     "metadata": {
      "needs_background": "light"
     },
     "output_type": "display_data"
    }
   ],
   "source": [
    "\n",
    "# Get the training history from the best estimator\n",
    "history = gridsearch_lr.best_estimator_.history\n",
    "\n",
    "# Extract the training and validation loss values\n",
    "train_loss = history[:, 'train_loss']\n",
    "valid_loss = history[:, 'valid_loss']\n",
    "\n",
    "# Plot the training and validation loss against the number of epochs\n",
    "plt.plot(train_loss, label='Train loss', linestyle='dashed', color='blue')\n",
    "plt.plot(valid_loss, label='Validation loss', linestyle='solid', color='orange')\n",
    "plt.xlabel('Number of epochs', fontsize=12)\n",
    "plt.ylabel('Loss', fontsize=12)\n",
    "plt.title('Training and Validation Loss', fontsize=14)\n",
    "plt.legend(fontsize=12)\n",
    "plt.xticks(fontsize=10)\n",
    "plt.yticks(fontsize=10)\n",
    "plt.ylim([0, 0.8])\n",
    "plt.grid(linestyle='dotted')\n",
    "plt.show()"
   ]
  }
 ],
 "metadata": {
  "kernelspec": {
   "display_name": "Python 3 (ipykernel)",
   "language": "python",
   "name": "python3"
  },
  "language_info": {
   "codemirror_mode": {
    "name": "ipython",
    "version": 3
   },
   "file_extension": ".py",
   "mimetype": "text/x-python",
   "name": "python",
   "nbconvert_exporter": "python",
   "pygments_lexer": "ipython3",
   "version": "3.9.12"
  }
 },
 "nbformat": 4,
 "nbformat_minor": 5
}
